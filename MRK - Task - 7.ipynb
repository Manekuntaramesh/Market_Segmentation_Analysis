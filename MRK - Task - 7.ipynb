{
 "cells": [
  {
   "cell_type": "code",
   "execution_count": 1,
   "id": "29bd6bc4",
   "metadata": {},
   "outputs": [],
   "source": [
    "import pandas as pd    # importing librarys\n",
    "import numpy as np"
   ]
  },
  {
   "cell_type": "code",
   "execution_count": 2,
   "id": "9edc3595",
   "metadata": {},
   "outputs": [],
   "source": [
    "import warnings\n",
    "warnings.filterwarnings('ignore')"
   ]
  },
  {
   "cell_type": "code",
   "execution_count": 3,
   "id": "c18d4a0e",
   "metadata": {},
   "outputs": [],
   "source": [
    "df = pd.read_csv(r\"C:\\rock\\dataset\\mcdonalds.csv\")  #Loading dataset"
   ]
  },
  {
   "cell_type": "code",
   "execution_count": 4,
   "id": "5fc3750a",
   "metadata": {},
   "outputs": [
    {
     "data": {
      "text/html": [
       "<div>\n",
       "<style scoped>\n",
       "    .dataframe tbody tr th:only-of-type {\n",
       "        vertical-align: middle;\n",
       "    }\n",
       "\n",
       "    .dataframe tbody tr th {\n",
       "        vertical-align: top;\n",
       "    }\n",
       "\n",
       "    .dataframe thead th {\n",
       "        text-align: right;\n",
       "    }\n",
       "</style>\n",
       "<table border=\"1\" class=\"dataframe\">\n",
       "  <thead>\n",
       "    <tr style=\"text-align: right;\">\n",
       "      <th></th>\n",
       "      <th>yummy</th>\n",
       "      <th>convenient</th>\n",
       "      <th>spicy</th>\n",
       "      <th>fattening</th>\n",
       "      <th>greasy</th>\n",
       "      <th>fast</th>\n",
       "      <th>cheap</th>\n",
       "      <th>tasty</th>\n",
       "      <th>expensive</th>\n",
       "      <th>healthy</th>\n",
       "      <th>disgusting</th>\n",
       "      <th>Like</th>\n",
       "      <th>Age</th>\n",
       "      <th>VisitFrequency</th>\n",
       "      <th>Gender</th>\n",
       "    </tr>\n",
       "  </thead>\n",
       "  <tbody>\n",
       "    <tr>\n",
       "      <th>0</th>\n",
       "      <td>No</td>\n",
       "      <td>Yes</td>\n",
       "      <td>No</td>\n",
       "      <td>Yes</td>\n",
       "      <td>No</td>\n",
       "      <td>Yes</td>\n",
       "      <td>Yes</td>\n",
       "      <td>No</td>\n",
       "      <td>Yes</td>\n",
       "      <td>No</td>\n",
       "      <td>No</td>\n",
       "      <td>-3</td>\n",
       "      <td>61</td>\n",
       "      <td>Every three months</td>\n",
       "      <td>Female</td>\n",
       "    </tr>\n",
       "    <tr>\n",
       "      <th>1</th>\n",
       "      <td>Yes</td>\n",
       "      <td>Yes</td>\n",
       "      <td>No</td>\n",
       "      <td>Yes</td>\n",
       "      <td>Yes</td>\n",
       "      <td>Yes</td>\n",
       "      <td>Yes</td>\n",
       "      <td>Yes</td>\n",
       "      <td>Yes</td>\n",
       "      <td>No</td>\n",
       "      <td>No</td>\n",
       "      <td>+2</td>\n",
       "      <td>51</td>\n",
       "      <td>Every three months</td>\n",
       "      <td>Female</td>\n",
       "    </tr>\n",
       "    <tr>\n",
       "      <th>2</th>\n",
       "      <td>No</td>\n",
       "      <td>Yes</td>\n",
       "      <td>Yes</td>\n",
       "      <td>Yes</td>\n",
       "      <td>Yes</td>\n",
       "      <td>Yes</td>\n",
       "      <td>No</td>\n",
       "      <td>Yes</td>\n",
       "      <td>Yes</td>\n",
       "      <td>Yes</td>\n",
       "      <td>No</td>\n",
       "      <td>+1</td>\n",
       "      <td>62</td>\n",
       "      <td>Every three months</td>\n",
       "      <td>Female</td>\n",
       "    </tr>\n",
       "    <tr>\n",
       "      <th>3</th>\n",
       "      <td>Yes</td>\n",
       "      <td>Yes</td>\n",
       "      <td>No</td>\n",
       "      <td>Yes</td>\n",
       "      <td>Yes</td>\n",
       "      <td>Yes</td>\n",
       "      <td>Yes</td>\n",
       "      <td>Yes</td>\n",
       "      <td>No</td>\n",
       "      <td>No</td>\n",
       "      <td>Yes</td>\n",
       "      <td>+4</td>\n",
       "      <td>69</td>\n",
       "      <td>Once a week</td>\n",
       "      <td>Female</td>\n",
       "    </tr>\n",
       "    <tr>\n",
       "      <th>4</th>\n",
       "      <td>No</td>\n",
       "      <td>Yes</td>\n",
       "      <td>No</td>\n",
       "      <td>Yes</td>\n",
       "      <td>Yes</td>\n",
       "      <td>Yes</td>\n",
       "      <td>Yes</td>\n",
       "      <td>No</td>\n",
       "      <td>No</td>\n",
       "      <td>Yes</td>\n",
       "      <td>No</td>\n",
       "      <td>+2</td>\n",
       "      <td>49</td>\n",
       "      <td>Once a month</td>\n",
       "      <td>Male</td>\n",
       "    </tr>\n",
       "    <tr>\n",
       "      <th>...</th>\n",
       "      <td>...</td>\n",
       "      <td>...</td>\n",
       "      <td>...</td>\n",
       "      <td>...</td>\n",
       "      <td>...</td>\n",
       "      <td>...</td>\n",
       "      <td>...</td>\n",
       "      <td>...</td>\n",
       "      <td>...</td>\n",
       "      <td>...</td>\n",
       "      <td>...</td>\n",
       "      <td>...</td>\n",
       "      <td>...</td>\n",
       "      <td>...</td>\n",
       "      <td>...</td>\n",
       "    </tr>\n",
       "    <tr>\n",
       "      <th>1448</th>\n",
       "      <td>No</td>\n",
       "      <td>Yes</td>\n",
       "      <td>No</td>\n",
       "      <td>Yes</td>\n",
       "      <td>Yes</td>\n",
       "      <td>No</td>\n",
       "      <td>No</td>\n",
       "      <td>No</td>\n",
       "      <td>Yes</td>\n",
       "      <td>No</td>\n",
       "      <td>Yes</td>\n",
       "      <td>I hate it!-5</td>\n",
       "      <td>47</td>\n",
       "      <td>Once a year</td>\n",
       "      <td>Male</td>\n",
       "    </tr>\n",
       "    <tr>\n",
       "      <th>1449</th>\n",
       "      <td>Yes</td>\n",
       "      <td>Yes</td>\n",
       "      <td>No</td>\n",
       "      <td>Yes</td>\n",
       "      <td>No</td>\n",
       "      <td>No</td>\n",
       "      <td>Yes</td>\n",
       "      <td>Yes</td>\n",
       "      <td>No</td>\n",
       "      <td>Yes</td>\n",
       "      <td>No</td>\n",
       "      <td>+2</td>\n",
       "      <td>36</td>\n",
       "      <td>Once a week</td>\n",
       "      <td>Female</td>\n",
       "    </tr>\n",
       "    <tr>\n",
       "      <th>1450</th>\n",
       "      <td>Yes</td>\n",
       "      <td>Yes</td>\n",
       "      <td>No</td>\n",
       "      <td>Yes</td>\n",
       "      <td>No</td>\n",
       "      <td>Yes</td>\n",
       "      <td>No</td>\n",
       "      <td>Yes</td>\n",
       "      <td>Yes</td>\n",
       "      <td>No</td>\n",
       "      <td>No</td>\n",
       "      <td>+3</td>\n",
       "      <td>52</td>\n",
       "      <td>Once a month</td>\n",
       "      <td>Female</td>\n",
       "    </tr>\n",
       "    <tr>\n",
       "      <th>1451</th>\n",
       "      <td>Yes</td>\n",
       "      <td>Yes</td>\n",
       "      <td>No</td>\n",
       "      <td>No</td>\n",
       "      <td>No</td>\n",
       "      <td>Yes</td>\n",
       "      <td>Yes</td>\n",
       "      <td>Yes</td>\n",
       "      <td>No</td>\n",
       "      <td>Yes</td>\n",
       "      <td>No</td>\n",
       "      <td>+4</td>\n",
       "      <td>41</td>\n",
       "      <td>Every three months</td>\n",
       "      <td>Male</td>\n",
       "    </tr>\n",
       "    <tr>\n",
       "      <th>1452</th>\n",
       "      <td>No</td>\n",
       "      <td>Yes</td>\n",
       "      <td>No</td>\n",
       "      <td>Yes</td>\n",
       "      <td>Yes</td>\n",
       "      <td>No</td>\n",
       "      <td>No</td>\n",
       "      <td>No</td>\n",
       "      <td>Yes</td>\n",
       "      <td>No</td>\n",
       "      <td>Yes</td>\n",
       "      <td>-3</td>\n",
       "      <td>30</td>\n",
       "      <td>Every three months</td>\n",
       "      <td>Male</td>\n",
       "    </tr>\n",
       "  </tbody>\n",
       "</table>\n",
       "<p>1453 rows × 15 columns</p>\n",
       "</div>"
      ],
      "text/plain": [
       "     yummy convenient spicy fattening greasy fast cheap tasty expensive  \\\n",
       "0       No        Yes    No       Yes     No  Yes   Yes    No       Yes   \n",
       "1      Yes        Yes    No       Yes    Yes  Yes   Yes   Yes       Yes   \n",
       "2       No        Yes   Yes       Yes    Yes  Yes    No   Yes       Yes   \n",
       "3      Yes        Yes    No       Yes    Yes  Yes   Yes   Yes        No   \n",
       "4       No        Yes    No       Yes    Yes  Yes   Yes    No        No   \n",
       "...    ...        ...   ...       ...    ...  ...   ...   ...       ...   \n",
       "1448    No        Yes    No       Yes    Yes   No    No    No       Yes   \n",
       "1449   Yes        Yes    No       Yes     No   No   Yes   Yes        No   \n",
       "1450   Yes        Yes    No       Yes     No  Yes    No   Yes       Yes   \n",
       "1451   Yes        Yes    No        No     No  Yes   Yes   Yes        No   \n",
       "1452    No        Yes    No       Yes    Yes   No    No    No       Yes   \n",
       "\n",
       "     healthy disgusting          Like  Age      VisitFrequency  Gender  \n",
       "0         No         No            -3   61  Every three months  Female  \n",
       "1         No         No            +2   51  Every three months  Female  \n",
       "2        Yes         No            +1   62  Every three months  Female  \n",
       "3         No        Yes            +4   69         Once a week  Female  \n",
       "4        Yes         No            +2   49        Once a month    Male  \n",
       "...      ...        ...           ...  ...                 ...     ...  \n",
       "1448      No        Yes  I hate it!-5   47         Once a year    Male  \n",
       "1449     Yes         No            +2   36         Once a week  Female  \n",
       "1450      No         No            +3   52        Once a month  Female  \n",
       "1451     Yes         No            +4   41  Every three months    Male  \n",
       "1452      No        Yes            -3   30  Every three months    Male  \n",
       "\n",
       "[1453 rows x 15 columns]"
      ]
     },
     "execution_count": 4,
     "metadata": {},
     "output_type": "execute_result"
    }
   ],
   "source": [
    "df    "
   ]
  },
  {
   "cell_type": "code",
   "execution_count": 5,
   "id": "16ef1e74",
   "metadata": {},
   "outputs": [
    {
     "data": {
      "text/plain": [
       "yummy             0\n",
       "convenient        0\n",
       "spicy             0\n",
       "fattening         0\n",
       "greasy            0\n",
       "fast              0\n",
       "cheap             0\n",
       "tasty             0\n",
       "expensive         0\n",
       "healthy           0\n",
       "disgusting        0\n",
       "Like              0\n",
       "Age               0\n",
       "VisitFrequency    0\n",
       "Gender            0\n",
       "dtype: int64"
      ]
     },
     "execution_count": 5,
     "metadata": {},
     "output_type": "execute_result"
    }
   ],
   "source": [
    "df.isna().sum()   # checking missing value"
   ]
  },
  {
   "cell_type": "code",
   "execution_count": 6,
   "id": "1f6f9e03",
   "metadata": {},
   "outputs": [
    {
     "data": {
      "text/plain": [
       "22"
      ]
     },
     "execution_count": 6,
     "metadata": {},
     "output_type": "execute_result"
    }
   ],
   "source": [
    "df.duplicated().sum()      # check Duplicates"
   ]
  },
  {
   "cell_type": "code",
   "execution_count": 7,
   "id": "795c2af0",
   "metadata": {},
   "outputs": [],
   "source": [
    "df = df.drop_duplicates()       # drop the duplicates -- less values (22)"
   ]
  },
  {
   "cell_type": "code",
   "execution_count": 8,
   "id": "a4f7bb5d",
   "metadata": {},
   "outputs": [
    {
     "data": {
      "text/plain": [
       "0"
      ]
     },
     "execution_count": 8,
     "metadata": {},
     "output_type": "execute_result"
    }
   ],
   "source": [
    "df.duplicated().sum()"
   ]
  },
  {
   "cell_type": "markdown",
   "id": "91982ce5",
   "metadata": {},
   "source": [
    "### Step 7: Describing Segments"
   ]
  },
  {
   "cell_type": "markdown",
   "id": "cff60084",
   "metadata": {},
   "source": [
    "# Task \n",
    "\n",
    "9.1 Developing a Complete Picture of Market Segments\n",
    "\n",
    "9.2 Using Visualisations to Describe Market Segments\n",
    "\n",
    "9.2.1 Nominal and Ordinal Descriptor Variables \n",
    "\n",
    "9.2.2 Metric Descriptor Variables\n",
    "\n",
    "9.3 Testing for Segment Differences in Descriptor Variables\n",
    "\n",
    "9.4 Predicting Segments from Descriptor Variables\n",
    "\n",
    "9.4.1 Binary Logistic Regression\n",
    "\n",
    "9.4.2 Multinomial Logistic Regression\n",
    "\n",
    "9.4.3 Tree-Based Methods\n",
    "\n",
    "9.5 Step 7 Checklis"
   ]
  },
  {
   "cell_type": "code",
   "execution_count": 9,
   "id": "e2d8b5c0",
   "metadata": {},
   "outputs": [],
   "source": [
    "# Clean or encode binary Yes/No columns "
   ]
  },
  {
   "cell_type": "code",
   "execution_count": 10,
   "id": "e33665b6",
   "metadata": {},
   "outputs": [],
   "source": [
    "binary_columns = ['yummy', 'convenient', 'spicy', 'fattening', 'greasy',\n",
    "                  'fast', 'cheap', 'tasty', 'expensive', 'healthy', 'disgusting']\n",
    "df[binary_columns] = df[binary_columns].applymap(lambda x: 1 if x == 'Yes' else 0)"
   ]
  },
  {
   "cell_type": "code",
   "execution_count": 11,
   "id": "f6737b4c",
   "metadata": {},
   "outputs": [],
   "source": [
    "# Clean 'Like' to numeric sentiment (e.g., +3 → 3, 'I hate it!-5' → -5)\n",
    "df['Like'] = df['Like'].str.extract(r'([-+]?\\d+)').astype(int)"
   ]
  },
  {
   "cell_type": "code",
   "execution_count": 12,
   "id": "1741da53",
   "metadata": {},
   "outputs": [],
   "source": [
    "# Encode categorical columns\n",
    "df['Gender_Code'] = df['Gender'].map({'Male': 0, 'Female': 1})\n",
    "df['VisitFrequency_Code'] = df['VisitFrequency'].astype('category').cat.codes"
   ]
  },
  {
   "cell_type": "markdown",
   "id": "4d0b45d9",
   "metadata": {},
   "source": [
    "### Assuming Clustering is Done"
   ]
  },
  {
   "cell_type": "code",
   "execution_count": 13,
   "id": "9eeec494",
   "metadata": {},
   "outputs": [],
   "source": [
    "from sklearn.cluster import KMeans\n",
    "\n",
    "features_for_clustering = binary_columns + ['Like', 'Age']\n",
    "X = df[features_for_clustering]\n",
    "\n",
    "kmeans = KMeans(n_clusters=3, random_state=42)\n",
    "df['segment'] = kmeans.fit_predict(X)"
   ]
  },
  {
   "cell_type": "markdown",
   "id": "2a432fce",
   "metadata": {},
   "source": [
    "### 9.1 Complete Picture of segements"
   ]
  },
  {
   "cell_type": "code",
   "execution_count": 14,
   "id": "0bee159a",
   "metadata": {},
   "outputs": [
    {
     "name": "stdout",
     "output_type": "stream",
     "text": [
      "            yummy  convenient     spicy  fattening    greasy      fast  \\\n",
      "segment                                                                  \n",
      "0        0.425139    0.890943  0.142329   0.818854  0.425139  0.913124   \n",
      "1        0.761682    0.934579  0.053738   0.913551  0.686916  0.913551   \n",
      "2        0.497835    0.900433  0.077922   0.878788  0.497835  0.867965   \n",
      "\n",
      "            cheap     tasty  expensive   healthy  disgusting      Like  \\\n",
      "segment                                                                  \n",
      "0        0.626617  0.563771   0.295749  0.203327    0.240296  0.014787   \n",
      "1        0.619159  0.782710   0.371495  0.193925    0.210280  1.934579   \n",
      "2        0.536797  0.603896   0.426407  0.203463    0.281385  0.541126   \n",
      "\n",
      "               Age  \n",
      "segment             \n",
      "0        59.682070  \n",
      "1        27.212617  \n",
      "2        43.220779  \n"
     ]
    }
   ],
   "source": [
    "# Average per segment\n",
    "print(df.groupby('segment')[features_for_clustering].mean())"
   ]
  },
  {
   "cell_type": "code",
   "execution_count": 15,
   "id": "d9153156",
   "metadata": {},
   "outputs": [
    {
     "name": "stdout",
     "output_type": "stream",
     "text": [
      "0    541\n",
      "2    462\n",
      "1    428\n",
      "Name: segment, dtype: int64\n"
     ]
    }
   ],
   "source": [
    "print(df['segment'].value_counts())"
   ]
  },
  {
   "cell_type": "markdown",
   "id": "fc531461",
   "metadata": {},
   "source": [
    "### 9.2 Visualizing Segements "
   ]
  },
  {
   "cell_type": "markdown",
   "id": "cce027a5",
   "metadata": {},
   "source": [
    "### 9.2.1"
   ]
  },
  {
   "cell_type": "code",
   "execution_count": 16,
   "id": "2c90c4e5",
   "metadata": {},
   "outputs": [],
   "source": [
    "import seaborn as sns\n",
    "import matplotlib.pyplot as plt"
   ]
  },
  {
   "cell_type": "code",
   "execution_count": 17,
   "id": "88ca7ce3",
   "metadata": {},
   "outputs": [
    {
     "data": {
      "image/png": "[encoded data removed]",
      "text/plain": [
       "<Figure size 640x480 with 1 Axes>"
      ]
     },
     "metadata": {},
     "output_type": "display_data"
    }
   ],
   "source": [
    "# Gender\n",
    "sns.countplot(data=df, x='Gender', hue='segment')\n",
    "plt.title(\"Gender Distribution by Segment\")\n",
    "plt.show()"
   ]
  },
  {
   "cell_type": "code",
   "execution_count": 18,
   "id": "06fea878",
   "metadata": {},
   "outputs": [
    {
     "data": {
      "image/png": "[encoded data removed]",
      "text/plain": [
       "<Figure size 640x480 with 1 Axes>"
      ]
     },
     "metadata": {},
     "output_type": "display_data"
    }
   ],
   "source": [
    "# Visit frequency\n",
    "sns.countplot(data=df, x='VisitFrequency', hue='segment')\n",
    "plt.title(\"Visit Frequency by Segment\")\n",
    "plt.xticks(rotation=45)\n",
    "plt.show()"
   ]
  },
  {
   "cell_type": "markdown",
   "id": "fdf479b1",
   "metadata": {},
   "source": [
    "### 9.2.2 Metric Variables"
   ]
  },
  {
   "cell_type": "code",
   "execution_count": 19,
   "id": "9ba210ee",
   "metadata": {},
   "outputs": [
    {
     "data": {
      "image/png": "[encoded data removed]",
      "text/plain": [
       "<Figure size 640x480 with 1 Axes>"
      ]
     },
     "metadata": {},
     "output_type": "display_data"
    }
   ],
   "source": [
    "# Like score\n",
    "sns.boxplot(data=df, x='segment', y='Like')\n",
    "plt.title(\"Like Score by Segment\")\n",
    "plt.show()"
   ]
  },
  {
   "cell_type": "code",
   "execution_count": 20,
   "id": "0ba074f7",
   "metadata": {},
   "outputs": [
    {
     "data": {
      "image/png": "[encoded data removed]",
      "text/plain": [
       "<Figure size 640x480 with 1 Axes>"
      ]
     },
     "metadata": {},
     "output_type": "display_data"
    }
   ],
   "source": [
    "# Age\n",
    "sns.boxplot(data=df, x='segment', y='Age')\n",
    "plt.title(\"Age Distribution by Segment\")\n",
    "plt.show()"
   ]
  },
  {
   "cell_type": "markdown",
   "id": "429ee15a",
   "metadata": {},
   "source": [
    "### 9.3 Testing Segement Differences"
   ]
  },
  {
   "cell_type": "code",
   "execution_count": 21,
   "id": "3ca88763",
   "metadata": {},
   "outputs": [],
   "source": [
    "#ANOVA for metric variables"
   ]
  },
  {
   "cell_type": "code",
   "execution_count": 22,
   "id": "caf643f3",
   "metadata": {},
   "outputs": [],
   "source": [
    "from scipy.stats import f_oneway"
   ]
  },
  {
   "cell_type": "code",
   "execution_count": 23,
   "id": "17f9c793",
   "metadata": {},
   "outputs": [
    {
     "name": "stdout",
     "output_type": "stream",
     "text": [
      "Like ANOVA p-value: 0.0000\n",
      "Age ANOVA p-value: 0.0000\n"
     ]
    }
   ],
   "source": [
    "for var in ['Like', 'Age']:\n",
    "    groups = [df[df['segment'] == s][var] for s in df['segment'].unique()]\n",
    "    stat, p = f_oneway(*groups)\n",
    "    print(f\"{var} ANOVA p-value: {p:.4f}\")"
   ]
  },
  {
   "cell_type": "code",
   "execution_count": 24,
   "id": "87d87bbf",
   "metadata": {},
   "outputs": [],
   "source": [
    "#Chi-Square for categorical variables"
   ]
  },
  {
   "cell_type": "code",
   "execution_count": 25,
   "id": "7ed99860",
   "metadata": {},
   "outputs": [],
   "source": [
    "from scipy.stats import chi2_contingency"
   ]
  },
  {
   "cell_type": "code",
   "execution_count": 26,
   "id": "97a39aae",
   "metadata": {},
   "outputs": [
    {
     "name": "stdout",
     "output_type": "stream",
     "text": [
      "Gender Chi-square p-value: 0.2983\n",
      "VisitFrequency Chi-square p-value: 0.0000\n"
     ]
    }
   ],
   "source": [
    "for var in ['Gender', 'VisitFrequency']:\n",
    "    table = pd.crosstab(df[var], df['segment'])\n",
    "    chi2, p, _, _ = chi2_contingency(table)\n",
    "    print(f\"{var} Chi-square p-value: {p:.4f}\")"
   ]
  },
  {
   "cell_type": "markdown",
   "id": "54124891",
   "metadata": {},
   "source": [
    "### 9.4 Predicting Segments"
   ]
  },
  {
   "cell_type": "markdown",
   "id": "02a06339",
   "metadata": {},
   "source": [
    "### 9.4.2 Multinomial Logistic Regression"
   ]
  },
  {
   "cell_type": "code",
   "execution_count": 27,
   "id": "6416fe52",
   "metadata": {},
   "outputs": [],
   "source": [
    "from sklearn.linear_model import LogisticRegression\n",
    "from sklearn.model_selection import train_test_split"
   ]
  },
  {
   "cell_type": "code",
   "execution_count": 28,
   "id": "9e8fdfcd",
   "metadata": {},
   "outputs": [],
   "source": [
    "X = df[['Like', 'Age', 'Gender_Code', 'VisitFrequency_Code']]\n",
    "y = df['segment']"
   ]
  },
  {
   "cell_type": "code",
   "execution_count": 29,
   "id": "509c81f4",
   "metadata": {},
   "outputs": [],
   "source": [
    "X_train, X_test, y_train, y_test = train_test_split(X, y, test_size=0.3, random_state=42)"
   ]
  },
  {
   "cell_type": "code",
   "execution_count": 30,
   "id": "719cc3cd",
   "metadata": {},
   "outputs": [
    {
     "name": "stdout",
     "output_type": "stream",
     "text": [
      "Multinomial Logistic Regression Accuracy: 0.9976744186046511\n"
     ]
    }
   ],
   "source": [
    "model = LogisticRegression(multi_class='multinomial', max_iter=500)\n",
    "model.fit(X_train, y_train)\n",
    "print(\"Multinomial Logistic Regression Accuracy:\", model.score(X_test, y_test))"
   ]
  },
  {
   "cell_type": "code",
   "execution_count": 35,
   "id": "db570170",
   "metadata": {},
   "outputs": [],
   "source": [
    "## Multinomial Logistic Regression Accuracy: 0.9976744186046511  - Good Accuracy "
   ]
  },
  {
   "cell_type": "markdown",
   "id": "8e655081",
   "metadata": {},
   "source": [
    "### 9.4.3 Tree-Based Model"
   ]
  },
  {
   "cell_type": "code",
   "execution_count": 31,
   "id": "4e5c1b7a",
   "metadata": {},
   "outputs": [],
   "source": [
    "from sklearn.tree import DecisionTreeClassifier\n",
    "from sklearn.metrics import classification_report"
   ]
  },
  {
   "cell_type": "code",
   "execution_count": 32,
   "id": "587e509f",
   "metadata": {},
   "outputs": [
    {
     "name": "stdout",
     "output_type": "stream",
     "text": [
      "              precision    recall  f1-score   support\n",
      "\n",
      "           0       1.00      1.00      1.00       166\n",
      "           1       1.00      1.00      1.00       142\n",
      "           2       1.00      1.00      1.00       122\n",
      "\n",
      "    accuracy                           1.00       430\n",
      "   macro avg       1.00      1.00      1.00       430\n",
      "weighted avg       1.00      1.00      1.00       430\n",
      "\n"
     ]
    }
   ],
   "source": [
    "tree = DecisionTreeClassifier(max_depth=4, random_state=42)\n",
    "tree.fit(X_train, y_train)\n",
    "y_pred = tree.predict(X_test)\n",
    "print(classification_report(y_test, y_pred))"
   ]
  },
  {
   "cell_type": "markdown",
   "id": "f543b2b7",
   "metadata": {},
   "source": [
    "### 9.5 Step 7 Checklist"
   ]
  },
  {
   "cell_type": "code",
   "execution_count": 33,
   "id": "9a3751c0",
   "metadata": {},
   "outputs": [
    {
     "name": "stdout",
     "output_type": "stream",
     "text": [
      "Segment profiling, visualization, testing, and prediction completed.\n"
     ]
    }
   ],
   "source": [
    "print(\"Segment profiling, visualization, testing, and prediction completed.\")\n"
   ]
  }
 ],
 "metadata": {
  "kernelspec": {
   "display_name": "Python 3 (ipykernel)",
   "language": "python",
   "name": "python3"
  },
  "language_info": {
   "codemirror_mode": {
    "name": "ipython",
    "version": 3
   },
   "file_extension": ".py",
   "mimetype": "text/x-python",
   "name": "python",
   "nbconvert_exporter": "python",
   "pygments_lexer": "ipython3",
   "version": "3.11.4"
  }
 },
 "nbformat": 4,
 "nbformat_minor": 5
}
